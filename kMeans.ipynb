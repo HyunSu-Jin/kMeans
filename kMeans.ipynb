{
 "cells": [
  {
   "cell_type": "code",
   "execution_count": 1,
   "metadata": {},
   "outputs": [],
   "source": [
    "import random\n",
    "import math\n",
    "import numpy as np\n",
    "from matplotlib import pyplot as plt\n",
    "inputs = [[-14,-5],[13,13],[0,23],[-19,-11],[-9,-16],[21,27],[-49,15],[26,13],[-46,5],[-34,-1],[11,15],[-49,0],[-22,-16],[19,28],[-12,-8],[-13,-19],[-41,8],[-11,-6],[-25,-9],[-18,-3]]"
   ]
  },
  {
   "cell_type": "code",
   "execution_count": 2,
   "metadata": {},
   "outputs": [],
   "source": [
    "class KMeans:\n",
    "    def __init__(self,k):\n",
    "        self.k = k\n",
    "        self.means = None # 각 cluster의 centroid를 나타내는 값. k개의 centroid를 갖는 list\n",
    "    \n",
    "    def classify(self,input):\n",
    "        distances = [euclidean_distance(input,centroid)for centroid in self.means]\n",
    "        distances = np.array(distances)\n",
    "        return np.argmin(distances)\n",
    "    \n",
    "    def train(self,inputs):\n",
    "        self.means = random.sample(inputs,self.k) # 초기 중심점을 dataset에서 부터 임의로 지정한다. training의 의미는 이 controid값을 배정하는 것\n",
    "        assignments = None\n",
    "        \n",
    "        while True:\n",
    "            # 소속되는 군집을 다시 찾기\n",
    "            new_assignments = []\n",
    "            for group in map(self.classify,inputs):\n",
    "                new_assignments.append(group)\n",
    "            #print(new_assignments)\n",
    "            # 만약 clustering의 결괏값이 변하지 않았다면,\n",
    "            if assignments == new_assignments:\n",
    "                return\n",
    "            else:\n",
    "                assignments = new_assignments\n",
    "                #print('assignments :',assignments)\n",
    "                # conetorid 재조정\n",
    "                for group_idx in range(self.k):\n",
    "                    vectors =[]\n",
    "                    for data,label in zip(inputs,assignments):\n",
    "                        #print('label : ',label,'\\ndata:',data)\n",
    "                        if label == group_idx:\n",
    "                             vectors.append(data)\n",
    "                    vectors = np.array(vectors)\n",
    "                    new_centroid = np.sum(vectors,axis=0) / vectors.shape[0]\n",
    "                    self.means[group_idx] = new_centroid"
   ]
  },
  {
   "cell_type": "code",
   "execution_count": 3,
   "metadata": {
    "collapsed": true
   },
   "outputs": [],
   "source": [
    "def euclidean_distance(vec1,vec2):\n",
    "    vec1 = np.array(vec1)\n",
    "    vec2 = np.array(vec2)\n",
    "    distance = vec1-vec2\n",
    "    distance = distance **2\n",
    "    distance = sum(distance)\n",
    "    return distance ** 0.5"
   ]
  },
  {
   "cell_type": "code",
   "execution_count": 4,
   "metadata": {
    "scrolled": false
   },
   "outputs": [
    {
     "name": "stdout",
     "output_type": "stream",
     "text": [
      "[array([-43.8,   5.4]), array([-15.88888889, -10.33333333]), array([ 15.        ,  19.83333333])]\n"
     ]
    },
    {
     "data": {
      "image/png": "[encoded data removed]",
      "text/plain": [
       "<matplotlib.figure.Figure at 0x8e99db51d0>"
      ]
     },
     "metadata": {},
     "output_type": "display_data"
    }
   ],
   "source": [
    "clusterer = KMeans(3)\n",
    "clusterer.train(inputs)\n",
    "print(clusterer.means)\n",
    "inputs = np.array(inputs)\n",
    "axis_x = inputs[:,0]\n",
    "axis_y = inputs[:,1]\n",
    "plt.scatter(axis_x,axis_y)\n",
    "plt.show()"
   ]
  },
  {
   "cell_type": "code",
   "execution_count": 5,
   "metadata": {
    "collapsed": true
   },
   "outputs": [],
   "source": [
    "def squared_clustering_errors(inputs,k):\n",
    "    clusterer = KMeans(k)\n",
    "    clusterer.train(inputs)\n",
    "    means = clusterer.means\n",
    "    assignments = list(map(clusterer.classify,inputs)) # return cluster idx list\n",
    "    return sum(euclidean_distance(data,means[idx])for data,idx in zip(inputs,assignments))"
   ]
  },
  {
   "cell_type": "code",
   "execution_count": null,
   "metadata": {
    "scrolled": true
   },
   "outputs": [
    {
     "data": {
      "image/png": "[encoded data removed]",
      "text/plain": [
       "<matplotlib.figure.Figure at 0x8e9c002470>"
      ]
     },
     "metadata": {},
     "output_type": "display_data"
    }
   ],
   "source": [
    "inputs = list(inputs)\n",
    "ks = range(1,len(inputs)+1)\n",
    "errors = [squared_clustering_errors(inputs,k)for k in ks]\n",
    "plt.plot(ks,errors)\n",
    "plt.xticks(ks)\n",
    "plt.xlabel('k')\n",
    "plt.ylabel('total squared error')\n",
    "plt.title('Total Error vs. # of Clusters')\n",
    "plt.show()"
   ]
  }
 ],
 "metadata": {
  "kernelspec": {
   "display_name": "Python 3",
   "language": "python",
   "name": "python3"
  },
  "language_info": {
   "codemirror_mode": {
    "name": "ipython",
    "version": 3
   },
   "file_extension": ".py",
   "mimetype": "text/x-python",
   "name": "python",
   "nbconvert_exporter": "python",
   "pygments_lexer": "ipython3",
   "version": "3.5.3"
  }
 },
 "nbformat": 4,
 "nbformat_minor": 2
}
